{
 "cells": [
  {
   "cell_type": "markdown",
   "metadata": {},
   "source": [
    "<h1 align=\"center\">Python Bootcamp</h1> \n",
    "<h3 align=\"center\">BSAI course, Autumn, 2025</h3> "
   ]
  },
  {
   "cell_type": "markdown",
   "metadata": {
    "collapsed": true
   },
   "source": [
    "<div style=\"border-left: 3px solid #000; padding: 1px; padding-left: 10px; background: #F0FAFF; \">\n",
    "<center><h1>Introduction to Matplotlib</h1></center>\n",
    "\n",
    "<p>\n",
    "**`matplotlib`** is a plotting library for Python.\n",
    "<p>\n",
    "**Pros:**\n",
    "<ul> \n",
    "<li>Huge amount of functionality/options.\n",
    "<li>Works with numpy arrays and python lists.\n",
    "<li>Comes with many prepackaged Python distros (anaconda, WinPython, etc.).\n",
    "<li>Easily saves plots to image (.png, .bmp, etc.) and vector (.svg, .pdf, etc.) formats.\n",
    "<li>Has an excellent set of examples (with code) at http://matplotlib.org/gallery.\n",
    "<li>Shares many syntactic conventions with Matlab.\n",
    "</ul>\n",
    "\n",
    "<p>\n",
    "**Cons:**\n",
    "<ul>\n",
    "<li>Slow for rapidly updating plots.\n",
    "<li>3D plotting support is not great.\n",
    "<li>Documentation is not always useful.\n",
    "<li>Essentially has two interfaces.  One is intended to be close to Matlab, the other is object oriented.  You will find examples that assume one or the other, but rarely the one you are after.\n",
    "<li>Shares many syntactic conventions with Matlab.\n",
    "</ul>\n",
    "</div>"
   ]
  },
  {
   "cell_type": "code",
   "execution_count": 2,
   "metadata": {
    "collapsed": false
   },
   "outputs": [
    {
     "name": "stderr",
     "output_type": "stream",
     "text": [
      "/Users/jxiaoxuan/anaconda2/lib/python2.7/site-packages/matplotlib/font_manager.py:273: UserWarning: Matplotlib is building the font cache using fc-list. This may take a moment.\n",
      "  warnings.warn('Matplotlib is building the font cache using fc-list. This may take a moment.')\n"
     ]
    }
   ],
   "source": [
    "# Import numpy and pyplot \n",
    "import matplotlib.pyplot as plt\n",
    "import numpy as np\n",
    "from __future__ import print_function"
   ]
  },
  {
   "cell_type": "markdown",
   "metadata": {},
   "source": [
    "<div style=\"border-left: 3px solid #000; padding: 1px; padding-left: 10px; background: #F0FAFF; \">\n",
    "<left><h1>Enable Inline Plotting</h1></left>\n",
    "<p>One of the great features of the Jupyter Notebook is the ability to have your code, outputs, and graphics in a single document. But plots do not render in the notebook by default. To turn on inline plot rendering, we have to use a so-called ```Magic Command```, which is a special Jupyter command preceded by a %.\n",
    "\n",
    "<p>Two commonly used Matplotlib magic commands are:\n",
    "<ul>\n",
    "<li>```%matplotlib notebook``` - creates interactive plots. This is what we're going to use today. Interactive features depend on the kernel running in the background, which means they disappear without the kernel. This feature is somewhat new, so still has occasional bugs.\n",
    "<li>```%matplotlib inline``` - creates static (non-interactive) plots. This still remains the most common way to generate plots.\n",
    "</ul>\n",
    "<p>It's important to note that the above commands are specific to Jupyter. In other environments, you'll need to add a line of code to explicitly display your plots, or save them to disk.  This will be discussed further when we cover other environments. \n",
    "\n",
    "</div>"
   ]
  },
  {
   "cell_type": "code",
   "execution_count": 4,
   "metadata": {
    "collapsed": false
   },
   "outputs": [],
   "source": [
    "%matplotlib notebook\n",
    "# %matplotlib inline\n",
    "# Feel free to replace the command above and see how the behavior of the notebook changes"
   ]
  },
  {
   "cell_type": "markdown",
   "metadata": {},
   "source": [
    "<div style=\"border-left: 3px solid #000; padding: 1px; padding-left: 10px; background: #F0FAFF; \">\n",
    "<h2>Example 1. Simple plot</h2>\n",
    "\n",
    "<p> start by making some sample data\n",
    "</div>\n",
    "\n"
   ]
  },
  {
   "cell_type": "code",
   "execution_count": 5,
   "metadata": {
    "collapsed": false
   },
   "outputs": [
    {
     "name": "stdout",
     "output_type": "stream",
     "text": [
      "first five elements of x: [ 0.    0.01  0.02  0.03  0.04]\n",
      "first five elements of y: [ 0.          0.06247735  0.12408615  0.18459157  0.2437655 ]\n"
     ]
    }
   ],
   "source": [
    "x = np.arange(0, 10, 0.01) #make evenly spaced points between 0 and 10 at intervals of 0.01\n",
    "y = np.sin(2*np.pi*x)*np.exp(-0.5*x) #some function x\n",
    "print(\"first five elements of x:\",x[:5])\n",
    "print(\"first five elements of y:\",y[:5])"
   ]
  },
  {
   "cell_type": "markdown",
   "metadata": {},
   "source": [
    "<div style=\"border-left: 3px solid #000; padding: 1px; padding-left: 10px; background: #F0FAFF; \">\n",
    "\n",
    "<p> Create a figure and axis, the plot our data on the axis\n",
    "</div>"
   ]
  },
  {
   "cell_type": "code",
   "execution_count": 6,
   "metadata": {
    "collapsed": false
   },
   "outputs": [
    {
     "data": {
      "application/javascript": "/* Put everything inside the global mpl namespace */\nwindow.mpl = {};\n\nmpl.get_websocket_type = function() {\n    if (typeof(WebSocket) !== 'undefined') {\n        return WebSocket;\n    } else if (typeof(MozWebSocket) !== 'undefined') {\n        return MozWebSocket;\n    } else {\n        alert('Your browser does not have WebSocket support.' +\n              'Please try Chrome, Safari or Firefox ≥ 6. ' +\n              'Firefox 4 and 5 are also supported but you ' +\n              'have to enable WebSockets in about:config.');\n    };\n}\n\nmpl.figure = function(figure_id, websocket, ondownload, parent_element) {\n    this.id = figure_id;\n\n    this.ws = websocket;\n\n    this.supports_binary = (this.ws.binaryType != undefined);\n\n    if (!this.supports_binary) {\n        var warnings = document.getElementById(\"mpl-warnings\");\n        if (warnings) {\n            warnings.style.display = 'block';\n            warnings.textContent = (\n                \"This browser does not support binary websocket messages. \" +\n                    \"Performance may be slow.\");\n        }\n    }\n\n    this.imageObj = new Image();\n\n    this.context = undefined;\n    this.message = undefined;\n    this.canvas = undefined;\n    this.rubberband_canvas = undefined;\n    this.rubberband_context = undefined;\n    this.format_dropdown = undefined;\n\n    this.image_mode = 'full';\n\n    this.root = $('<div/>');\n    this._root_extra_style(this.root)\n    this.root.attr('style', 'display: inline-block');\n\n    $(parent_element).append(this.root);\n\n    this._init_header(this);\n    this._init_canvas(this);\n    this._init_toolbar(this);\n\n    var fig = this;\n\n    this.waiting = false;\n\n    this.ws.onopen =  function () {\n            fig.send_message(\"supports_binary\", {value: fig.supports_binary});\n            fig.send_message(\"send_image_mode\", {});\n            fig.send_message(\"refresh\", {});\n        }\n\n    this.imageObj.onload = function() {\n            if (fig.image_mode == 'full') {\n                // Full images could contain transparency (where diff images\n                // almost always do), so we need to clear the canvas so that\n                // there is no ghosting.\n                fig.context.clearRect(0, 0, fig.canvas.width, fig.canvas.height);\n            }\n            fig.context.drawImage(fig.imageObj, 0, 0);\n        };\n\n    this.imageObj.onunload = function() {\n        this.ws.close();\n    }\n\n    this.ws.onmessage = this._make_on_message_function(this);\n\n    this.ondownload = ondownload;\n}\n\nmpl.figure.prototype._init_header = function() {\n    var titlebar = $(\n        '<div class=\"ui-dialog-titlebar ui-widget-header ui-corner-all ' +\n        'ui-helper-clearfix\"/>');\n    var titletext = $(\n        '<div class=\"ui-dialog-title\" style=\"width: 100%; ' +\n        'text-align: center; padding: 3px;\"/>');\n    titlebar.append(titletext)\n    this.root.append(titlebar);\n    this.header = titletext[0];\n}\n\n\n\nmpl.figure.prototype._canvas_extra_style = function(canvas_div) {\n\n}\n\n\nmpl.figure.prototype._root_extra_style = function(canvas_div) {\n\n}\n\nmpl.figure.prototype._init_canvas = function() {\n    var fig = this;\n\n    var canvas_div = $('<div/>');\n\n    canvas_div.attr('style', 'position: relative; clear: both; outline: 0');\n\n    function canvas_keyboard_event(event) {\n        return fig.key_event(event, event['data']);\n    }\n\n    canvas_div.keydown('key_press', canvas_keyboard_event);\n    canvas_div.keyup('key_release', canvas_keyboard_event);\n    this.canvas_div = canvas_div\n    this._canvas_extra_style(canvas_div)\n    this.root.append(canvas_div);\n\n    var canvas = $('<canvas/>');\n    canvas.addClass('mpl-canvas');\n    canvas.attr('style', \"left: 0; top: 0; z-index: 0; outline: 0\")\n\n    this.canvas = canvas[0];\n    this.context = canvas[0].getContext(\"2d\");\n\n    var rubberband = $('<canvas/>');\n    rubberband.attr('style', \"position: absolute; left: 0; top: 0; z-index: 1;\")\n\n    var pass_mouse_events = true;\n\n    canvas_div.resizable({\n        start: function(event, ui) {\n            pass_mouse_events = false;\n        },\n        resize: function(event, ui) {\n            fig.request_resize(ui.size.width, ui.size.height);\n        },\n        stop: function(event, ui) {\n            pass_mouse_events = true;\n            fig.request_resize(ui.size.width, ui.size.height);\n        },\n    });\n\n    function mouse_event_fn(event) {\n        if (pass_mouse_events)\n            return fig.mouse_event(event, event['data']);\n    }\n\n    rubberband.mousedown('button_press', mouse_event_fn);\n    rubberband.mouseup('button_release', mouse_event_fn);\n    // Throttle sequential mouse events to 1 every 20ms.\n    rubberband.mousemove('motion_notify', mouse_event_fn);\n\n    rubberband.mouseenter('figure_enter', mouse_event_fn);\n    rubberband.mouseleave('figure_leave', mouse_event_fn);\n\n    canvas_div.on(\"wheel\", function (event) {\n        event = event.originalEvent;\n        event['data'] = 'scroll'\n        if (event.deltaY < 0) {\n            event.step = 1;\n        } else {\n            event.step = -1;\n        }\n        mouse_event_fn(event);\n    });\n\n    canvas_div.append(canvas);\n    canvas_div.append(rubberband);\n\n    this.rubberband = rubberband;\n    this.rubberband_canvas = rubberband[0];\n    this.rubberband_context = rubberband[0].getContext(\"2d\");\n    this.rubberband_context.strokeStyle = \"#000000\";\n\n    this._resize_canvas = function(width, height) {\n        // Keep the size of the canvas, canvas container, and rubber band\n        // canvas in synch.\n        canvas_div.css('width', width)\n        canvas_div.css('height', height)\n\n        canvas.attr('width', width);\n        canvas.attr('height', height);\n\n        rubberband.attr('width', width);\n        rubberband.attr('height', height);\n    }\n\n    // Set the figure to an initial 600x600px, this will subsequently be updated\n    // upon first draw.\n    this._resize_canvas(600, 600);\n\n    // Disable right mouse context menu.\n    $(this.rubberband_canvas).bind(\"contextmenu\",function(e){\n        return false;\n    });\n\n    function set_focus () {\n        canvas.focus();\n        canvas_div.focus();\n    }\n\n    window.setTimeout(set_focus, 100);\n}\n\nmpl.figure.prototype._init_toolbar = function() {\n    var fig = this;\n\n    var nav_element = $('<div/>')\n    nav_element.attr('style', 'width: 100%');\n    this.root.append(nav_element);\n\n    // Define a callback function for later on.\n    function toolbar_event(event) {\n        return fig.toolbar_button_onclick(event['data']);\n    }\n    function toolbar_mouse_event(event) {\n        return fig.toolbar_button_onmouseover(event['data']);\n    }\n\n    for(var toolbar_ind in mpl.toolbar_items) {\n        var name = mpl.toolbar_items[toolbar_ind][0];\n        var tooltip = mpl.toolbar_items[toolbar_ind][1];\n        var image = mpl.toolbar_items[toolbar_ind][2];\n        var method_name = mpl.toolbar_items[toolbar_ind][3];\n\n        if (!name) {\n            // put a spacer in here.\n            continue;\n        }\n        var button = $('<button/>');\n        button.addClass('ui-button ui-widget ui-state-default ui-corner-all ' +\n                        'ui-button-icon-only');\n        button.attr('role', 'button');\n        button.attr('aria-disabled', 'false');\n        button.click(method_name, toolbar_event);\n        button.mouseover(tooltip, toolbar_mouse_event);\n\n        var icon_img = $('<span/>');\n        icon_img.addClass('ui-button-icon-primary ui-icon');\n        icon_img.addClass(image);\n        icon_img.addClass('ui-corner-all');\n\n        var tooltip_span = $('<span/>');\n        tooltip_span.addClass('ui-button-text');\n        tooltip_span.html(tooltip);\n\n        button.append(icon_img);\n        button.append(tooltip_span);\n\n        nav_element.append(button);\n    }\n\n    var fmt_picker_span = $('<span/>');\n\n    var fmt_picker = $('<select/>');\n    fmt_picker.addClass('mpl-toolbar-option ui-widget ui-widget-content');\n    fmt_picker_span.append(fmt_picker);\n    nav_element.append(fmt_picker_span);\n    this.format_dropdown = fmt_picker[0];\n\n    for (var ind in mpl.extensions) {\n        var fmt = mpl.extensions[ind];\n        var option = $(\n            '<option/>', {selected: fmt === mpl.default_extension}).html(fmt);\n        fmt_picker.append(option)\n    }\n\n    // Add hover states to the ui-buttons\n    $( \".ui-button\" ).hover(\n        function() { $(this).addClass(\"ui-state-hover\");},\n        function() { $(this).removeClass(\"ui-state-hover\");}\n    );\n\n    var status_bar = $('<span class=\"mpl-message\"/>');\n    nav_element.append(status_bar);\n    this.message = status_bar[0];\n}\n\nmpl.figure.prototype.request_resize = function(x_pixels, y_pixels) {\n    // Request matplotlib to resize the figure. Matplotlib will then trigger a resize in the client,\n    // which will in turn request a refresh of the image.\n    this.send_message('resize', {'width': x_pixels, 'height': y_pixels});\n}\n\nmpl.figure.prototype.send_message = function(type, properties) {\n    properties['type'] = type;\n    properties['figure_id'] = this.id;\n    this.ws.send(JSON.stringify(properties));\n}\n\nmpl.figure.prototype.send_draw_message = function() {\n    if (!this.waiting) {\n        this.waiting = true;\n        this.ws.send(JSON.stringify({type: \"draw\", figure_id: this.id}));\n    }\n}\n\n\nmpl.figure.prototype.handle_save = function(fig, msg) {\n    var format_dropdown = fig.format_dropdown;\n    var format = format_dropdown.options[format_dropdown.selectedIndex].value;\n    fig.ondownload(fig, format);\n}\n\n\nmpl.figure.prototype.handle_resize = function(fig, msg) {\n    var size = msg['size'];\n    if (size[0] != fig.canvas.width || size[1] != fig.canvas.height) {\n        fig._resize_canvas(size[0], size[1]);\n        fig.send_message(\"refresh\", {});\n    };\n}\n\nmpl.figure.prototype.handle_rubberband = function(fig, msg) {\n    var x0 = msg['x0'];\n    var y0 = fig.canvas.height - msg['y0'];\n    var x1 = msg['x1'];\n    var y1 = fig.canvas.height - msg['y1'];\n    x0 = Math.floor(x0) + 0.5;\n    y0 = Math.floor(y0) + 0.5;\n    x1 = Math.floor(x1) + 0.5;\n    y1 = Math.floor(y1) + 0.5;\n    var min_x = Math.min(x0, x1);\n    var min_y = Math.min(y0, y1);\n    var width = Math.abs(x1 - x0);\n    var height = Math.abs(y1 - y0);\n\n    fig.rubberband_context.clearRect(\n        0, 0, fig.canvas.width, fig.canvas.height);\n\n    fig.rubberband_context.strokeRect(min_x, min_y, width, height);\n}\n\nmpl.figure.prototype.handle_figure_label = function(fig, msg) {\n    // Updates the figure title.\n    fig.header.textContent = msg['label'];\n}\n\nmpl.figure.prototype.handle_cursor = function(fig, msg) {\n    var cursor = msg['cursor'];\n    switch(cursor)\n    {\n    case 0:\n        cursor = 'pointer';\n        break;\n    case 1:\n        cursor = 'default';\n        break;\n    case 2:\n        cursor = 'crosshair';\n        break;\n    case 3:\n        cursor = 'move';\n        break;\n    }\n    fig.rubberband_canvas.style.cursor = cursor;\n}\n\nmpl.figure.prototype.handle_message = function(fig, msg) {\n    fig.message.textContent = msg['message'];\n}\n\nmpl.figure.prototype.handle_draw = function(fig, msg) {\n    // Request the server to send over a new figure.\n    fig.send_draw_message();\n}\n\nmpl.figure.prototype.handle_image_mode = function(fig, msg) {\n    fig.image_mode = msg['mode'];\n}\n\nmpl.figure.prototype.updated_canvas_event = function() {\n    // Called whenever the canvas gets updated.\n    this.send_message(\"ack\", {});\n}\n\n// A function to construct a web socket function for onmessage handling.\n// Called in the figure constructor.\nmpl.figure.prototype._make_on_message_function = function(fig) {\n    return function socket_on_message(evt) {\n        if (evt.data instanceof Blob) {\n            /* FIXME: We get \"Resource interpreted as Image but\n             * transferred with MIME type text/plain:\" errors on\n             * Chrome.  But how to set the MIME type?  It doesn't seem\n             * to be part of the websocket stream */\n            evt.data.type = \"image/png\";\n\n            /* Free the memory for the previous frames */\n            if (fig.imageObj.src) {\n                (window.URL || window.webkitURL).revokeObjectURL(\n                    fig.imageObj.src);\n            }\n\n            fig.imageObj.src = (window.URL || window.webkitURL).createObjectURL(\n                evt.data);\n            fig.updated_canvas_event();\n            fig.waiting = false;\n            return;\n        }\n        else if (typeof evt.data === 'string' && evt.data.slice(0, 21) == \"data:image/png;base64\") {\n            fig.imageObj.src = evt.data;\n            fig.updated_canvas_event();\n            fig.waiting = false;\n            return;\n        }\n\n        var msg = JSON.parse(evt.data);\n        var msg_type = msg['type'];\n\n        // Call the  \"handle_{type}\" callback, which takes\n        // the figure and JSON message as its only arguments.\n        try {\n            var callback = fig[\"handle_\" + msg_type];\n        } catch (e) {\n            console.log(\"No handler for the '\" + msg_type + \"' message type: \", msg);\n            return;\n        }\n\n        if (callback) {\n            try {\n                // console.log(\"Handling '\" + msg_type + \"' message: \", msg);\n                callback(fig, msg);\n            } catch (e) {\n                console.log(\"Exception inside the 'handler_\" + msg_type + \"' callback:\", e, e.stack, msg);\n            }\n        }\n    };\n}\n\n// from http://stackoverflow.com/questions/1114465/getting-mouse-location-in-canvas\nmpl.findpos = function(e) {\n    //this section is from http://www.quirksmode.org/js/events_properties.html\n    var targ;\n    if (!e)\n        e = window.event;\n    if (e.target)\n        targ = e.target;\n    else if (e.srcElement)\n        targ = e.srcElement;\n    if (targ.nodeType == 3) // defeat Safari bug\n        targ = targ.parentNode;\n\n    // jQuery normalizes the pageX and pageY\n    // pageX,Y are the mouse positions relative to the document\n    // offset() returns the position of the element relative to the document\n    var x = e.pageX - $(targ).offset().left;\n    var y = e.pageY - $(targ).offset().top;\n\n    return {\"x\": x, \"y\": y};\n};\n\n/*\n * return a copy of an object with only non-object keys\n * we need this to avoid circular references\n * http://stackoverflow.com/a/24161582/3208463\n */\nfunction simpleKeys (original) {\n  return Object.keys(original).reduce(function (obj, key) {\n    if (typeof original[key] !== 'object')\n        obj[key] = original[key]\n    return obj;\n  }, {});\n}\n\nmpl.figure.prototype.mouse_event = function(event, name) {\n    var canvas_pos = mpl.findpos(event)\n\n    if (name === 'button_press')\n    {\n        this.canvas.focus();\n        this.canvas_div.focus();\n    }\n\n    var x = canvas_pos.x;\n    var y = canvas_pos.y;\n\n    this.send_message(name, {x: x, y: y, button: event.button,\n                             step: event.step,\n                             guiEvent: simpleKeys(event)});\n\n    /* This prevents the web browser from automatically changing to\n     * the text insertion cursor when the button is pressed.  We want\n     * to control all of the cursor setting manually through the\n     * 'cursor' event from matplotlib */\n    event.preventDefault();\n    return false;\n}\n\nmpl.figure.prototype._key_event_extra = function(event, name) {\n    // Handle any extra behaviour associated with a key event\n}\n\nmpl.figure.prototype.key_event = function(event, name) {\n\n    // Prevent repeat events\n    if (name == 'key_press')\n    {\n        if (event.which === this._key)\n            return;\n        else\n            this._key = event.which;\n    }\n    if (name == 'key_release')\n        this._key = null;\n\n    var value = '';\n    if (event.ctrlKey && event.which != 17)\n        value += \"ctrl+\";\n    if (event.altKey && event.which != 18)\n        value += \"alt+\";\n    if (event.shiftKey && event.which != 16)\n        value += \"shift+\";\n\n    value += 'k';\n    value += event.which.toString();\n\n    this._key_event_extra(event, name);\n\n    this.send_message(name, {key: value,\n                             guiEvent: simpleKeys(event)});\n    return false;\n}\n\nmpl.figure.prototype.toolbar_button_onclick = function(name) {\n    if (name == 'download') {\n        this.handle_save(this, null);\n    } else {\n        this.send_message(\"toolbar_button\", {name: name});\n    }\n};\n\nmpl.figure.prototype.toolbar_button_onmouseover = function(tooltip) {\n    this.message.textContent = tooltip;\n};\nmpl.toolbar_items = [[\"Home\", \"Reset original view\", \"fa fa-home icon-home\", \"home\"], [\"Back\", \"Back to  previous view\", \"fa fa-arrow-left icon-arrow-left\", \"back\"], [\"Forward\", \"Forward to next view\", \"fa fa-arrow-right icon-arrow-right\", \"forward\"], [\"\", \"\", \"\", \"\"], [\"Pan\", \"Pan axes with left mouse, zoom with right\", \"fa fa-arrows icon-move\", \"pan\"], [\"Zoom\", \"Zoom to rectangle\", \"fa fa-square-o icon-check-empty\", \"zoom\"], [\"\", \"\", \"\", \"\"], [\"Download\", \"Download plot\", \"fa fa-floppy-o icon-save\", \"download\"]];\n\nmpl.extensions = [\"eps\", \"jpeg\", \"pdf\", \"png\", \"ps\", \"raw\", \"svg\", \"tif\"];\n\nmpl.default_extension = \"png\";var comm_websocket_adapter = function(comm) {\n    // Create a \"websocket\"-like object which calls the given IPython comm\n    // object with the appropriate methods. Currently this is a non binary\n    // socket, so there is still some room for performance tuning.\n    var ws = {};\n\n    ws.close = function() {\n        comm.close()\n    };\n    ws.send = function(m) {\n        //console.log('sending', m);\n        comm.send(m);\n    };\n    // Register the callback with on_msg.\n    comm.on_msg(function(msg) {\n        //console.log('receiving', msg['content']['data'], msg);\n        // Pass the mpl event to the overriden (by mpl) onmessage function.\n        ws.onmessage(msg['content']['data'])\n    });\n    return ws;\n}\n\nmpl.mpl_figure_comm = function(comm, msg) {\n    // This is the function which gets called when the mpl process\n    // starts-up an IPython Comm through the \"matplotlib\" channel.\n\n    var id = msg.content.data.id;\n    // Get hold of the div created by the display call when the Comm\n    // socket was opened in Python.\n    var element = $(\"#\" + id);\n    var ws_proxy = comm_websocket_adapter(comm)\n\n    function ondownload(figure, format) {\n        window.open(figure.imageObj.src);\n    }\n\n    var fig = new mpl.figure(id, ws_proxy,\n                           ondownload,\n                           element.get(0));\n\n    // Call onopen now - mpl needs it, as it is assuming we've passed it a real\n    // web socket which is closed, not our websocket->open comm proxy.\n    ws_proxy.onopen();\n\n    fig.parent_element = element.get(0);\n    fig.cell_info = mpl.find_output_cell(\"<div id='\" + id + \"'></div>\");\n    if (!fig.cell_info) {\n        console.error(\"Failed to find cell for figure\", id, fig);\n        return;\n    }\n\n    var output_index = fig.cell_info[2]\n    var cell = fig.cell_info[0];\n\n};\n\nmpl.figure.prototype.handle_close = function(fig, msg) {\n    fig.root.unbind('remove')\n\n    // Update the output cell to use the data from the current canvas.\n    fig.push_to_output();\n    var dataURL = fig.canvas.toDataURL();\n    // Re-enable the keyboard manager in IPython - without this line, in FF,\n    // the notebook keyboard shortcuts fail.\n    IPython.keyboard_manager.enable()\n    $(fig.parent_element).html('<img src=\"' + dataURL + '\">');\n    fig.close_ws(fig, msg);\n}\n\nmpl.figure.prototype.close_ws = function(fig, msg){\n    fig.send_message('closing', msg);\n    // fig.ws.close()\n}\n\nmpl.figure.prototype.push_to_output = function(remove_interactive) {\n    // Turn the data on the canvas into data in the output cell.\n    var dataURL = this.canvas.toDataURL();\n    this.cell_info[1]['text/html'] = '<img src=\"' + dataURL + '\">';\n}\n\nmpl.figure.prototype.updated_canvas_event = function() {\n    // Tell IPython that the notebook contents must change.\n    IPython.notebook.set_dirty(true);\n    this.send_message(\"ack\", {});\n    var fig = this;\n    // Wait a second, then push the new image to the DOM so\n    // that it is saved nicely (might be nice to debounce this).\n    setTimeout(function () { fig.push_to_output() }, 1000);\n}\n\nmpl.figure.prototype._init_toolbar = function() {\n    var fig = this;\n\n    var nav_element = $('<div/>')\n    nav_element.attr('style', 'width: 100%');\n    this.root.append(nav_element);\n\n    // Define a callback function for later on.\n    function toolbar_event(event) {\n        return fig.toolbar_button_onclick(event['data']);\n    }\n    function toolbar_mouse_event(event) {\n        return fig.toolbar_button_onmouseover(event['data']);\n    }\n\n    for(var toolbar_ind in mpl.toolbar_items){\n        var name = mpl.toolbar_items[toolbar_ind][0];\n        var tooltip = mpl.toolbar_items[toolbar_ind][1];\n        var image = mpl.toolbar_items[toolbar_ind][2];\n        var method_name = mpl.toolbar_items[toolbar_ind][3];\n\n        if (!name) { continue; };\n\n        var button = $('<button class=\"btn btn-default\" href=\"#\" title=\"' + name + '\"><i class=\"fa ' + image + ' fa-lg\"></i></button>');\n        button.click(method_name, toolbar_event);\n        button.mouseover(tooltip, toolbar_mouse_event);\n        nav_element.append(button);\n    }\n\n    // Add the status bar.\n    var status_bar = $('<span class=\"mpl-message\" style=\"text-align:right; float: right;\"/>');\n    nav_element.append(status_bar);\n    this.message = status_bar[0];\n\n    // Add the close button to the window.\n    var buttongrp = $('<div class=\"btn-group inline pull-right\"></div>');\n    var button = $('<button class=\"btn btn-mini btn-primary\" href=\"#\" title=\"Stop Interaction\"><i class=\"fa fa-power-off icon-remove icon-large\"></i></button>');\n    button.click(function (evt) { fig.handle_close(fig, {}); } );\n    button.mouseover('Stop Interaction', toolbar_mouse_event);\n    buttongrp.append(button);\n    var titlebar = this.root.find($('.ui-dialog-titlebar'));\n    titlebar.prepend(buttongrp);\n}\n\nmpl.figure.prototype._root_extra_style = function(el){\n    var fig = this\n    el.on(\"remove\", function(){\n\tfig.close_ws(fig, {});\n    });\n}\n\nmpl.figure.prototype._canvas_extra_style = function(el){\n    // this is important to make the div 'focusable\n    el.attr('tabindex', 0)\n    // reach out to IPython and tell the keyboard manager to turn it's self\n    // off when our div gets focus\n\n    // location in version 3\n    if (IPython.notebook.keyboard_manager) {\n        IPython.notebook.keyboard_manager.register_events(el);\n    }\n    else {\n        // location in version 2\n        IPython.keyboard_manager.register_events(el);\n    }\n\n}\n\nmpl.figure.prototype._key_event_extra = function(event, name) {\n    var manager = IPython.notebook.keyboard_manager;\n    if (!manager)\n        manager = IPython.keyboard_manager;\n\n    // Check for shift+enter\n    if (event.shiftKey && event.which == 13) {\n        this.canvas_div.blur();\n        event.shiftKey = false;\n        // Send a \"J\" for go to next cell\n        event.which = 74;\n        event.keyCode = 74;\n        manager.command_mode();\n        manager.handle_keydown(event);\n    }\n}\n\nmpl.figure.prototype.handle_save = function(fig, msg) {\n    fig.ondownload(fig, null);\n}\n\n\nmpl.find_output_cell = function(html_output) {\n    // Return the cell and output element which can be found *uniquely* in the notebook.\n    // Note - this is a bit hacky, but it is done because the \"notebook_saving.Notebook\"\n    // IPython event is triggered only after the cells have been serialised, which for\n    // our purposes (turning an active figure into a static one), is too late.\n    var cells = IPython.notebook.get_cells();\n    var ncells = cells.length;\n    for (var i=0; i<ncells; i++) {\n        var cell = cells[i];\n        if (cell.cell_type === 'code'){\n            for (var j=0; j<cell.output_area.outputs.length; j++) {\n                var data = cell.output_area.outputs[j];\n                if (data.data) {\n                    // IPython >= 3 moved mimebundle to data attribute of output\n                    data = data.data;\n                }\n                if (data['text/html'] == html_output) {\n                    return [cell, data, j];\n                }\n            }\n        }\n    }\n}\n\n// Register the function which deals with the matplotlib target/channel.\n// The kernel may be null if the page has been refreshed.\nif (IPython.notebook.kernel != null) {\n    IPython.notebook.kernel.comm_manager.register_target('matplotlib', mpl.mpl_figure_comm);\n}\n",
      "text/plain": [
       "<IPython.core.display.Javascript object>"
      ]
     },
     "metadata": {},
     "output_type": "display_data"
    },
    {
     "data": {
      "text/html": [
       "<img src=\"data:image/png;base64,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\">"
      ],
      "text/plain": [
       "<IPython.core.display.HTML object>"
      ]
     },
     "metadata": {},
     "output_type": "display_data"
    },
    {
     "data": {
      "text/plain": [
       "[<matplotlib.lines.Line2D at 0x10aefabd0>]"
      ]
     },
     "execution_count": 6,
     "metadata": {},
     "output_type": "execute_result"
    }
   ],
   "source": [
    "fig,ax = plt.subplots() #subplots will make a single axis inside a new figure by default\n",
    "ax.plot(x, y, color='red', linewidth=2) \n",
    "\n",
    "# The figure can be saved by uncommenting the line below\n",
    "# All major image formats (as well as PDFs) are accepted formats.\n",
    "# fig.savefig('/testfig.png')"
   ]
  },
  {
   "cell_type": "markdown",
   "metadata": {},
   "source": [
    "<div style=\"border-left: 3px solid #000; padding: 1px; padding-left: 10px; background: #F0FAFF; \">\n",
    "<h2>Example 2. Subplots</h2> \n",
    "\n",
    "<p>A given figure can have more than one axis. The ```subplot``` command, which we used above, generates a single axis by default. But we can specify the number of axes that we want.\n",
    "\n",
    "</div>"
   ]
  },
  {
   "cell_type": "code",
   "execution_count": null,
   "metadata": {
    "collapsed": false
   },
   "outputs": [],
   "source": [
    "#make a time array\n",
    "t = np.arange(0, 10, 0.1)\n",
    "\n",
    "# Create figure and axes objects. Make them share the x-axis\n",
    "fig, axes = plt.subplots(nrows=2, ncols=1, sharex=True)\n",
    "\n",
    "# Here, `axes` is a numpy array with two axes subplot objects\n",
    "print('axes type: ' + str(type(axes)))\n",
    "print('axes shape:', np.shape(axes))\n",
    "print('axes object:\\n' + str(axes))\n",
    "\n",
    "# Plot on each subplot by indexing into 'ax'\n",
    "axes[0].plot(t, np.sin(t), label='sin')\n",
    "axes[1].plot(t, np.cos(t), label='cos', color='red')\n",
    "\n",
    "# We can loop over the `axes` array to set properties in every subplot (no matter how many)\n",
    "for ax in axes:\n",
    "    ax.legend(loc='best')\n",
    "    ax.set_ylabel('Amplitude',fontsize=14)\n",
    "    \n",
    "# We can also access individual axes to set the properties\n",
    "axes[1].set_xlabel('Time',fontsize=14,weight='bold',style='italic')\n",
    "\n",
    "# We can also edit attributes of the entire figure, such as the title\n",
    "fig.suptitle('This is the figure title',fontsize=18);"
   ]
  },
  {
   "cell_type": "markdown",
   "metadata": {},
   "source": [
    "<div style=\"border-left: 3px solid #000; padding: 1px; padding-left: 10px; background: #F0FAFF; \">\n",
    "\n",
    "Note that the x-axes are tied together in interactive mode due to the 'sharex = True' flag. Try setting that to False and regenerating\n",
    "\n",
    "</div>"
   ]
  },
  {
   "cell_type": "markdown",
   "metadata": {},
   "source": [
    "<div style=\"background: #DFF0D8; border-radius: 3px; padding: 10px;\">\n",
    "<p>**Exercise 5.1:**\n",
    "\n",
    "<ol>\n",
    "<li>Remake the above plot with 4 subplots (2 rows, 2 columns; hint: you'll now have to index into axes like **`axes[0, 0]`**).\n",
    "<li>Create a loop over all the axes objects (hint: use **`axes.flatten()`**) so that the **`legend`** and **`set_ylabel`** functions are called for all subplots.\n",
    "<li>Use the loop from #2 to add a title to only the top row of plots using the **`set_title`** function.\n",
    "<li>Look at the documentation for the fig.tight_layout() command to optimize figure layout \n",
    "  * Note that this doesn't play nice with the figure suptitle. try using the 'plt.subplots_adjust(top=0.92)' command to control the whitespace at the top of the plot.\n",
    "</ol>\n",
    "  \n",
    "</div>"
   ]
  },
  {
   "cell_type": "code",
   "execution_count": null,
   "metadata": {
    "collapsed": false
   },
   "outputs": [],
   "source": []
  },
  {
   "cell_type": "markdown",
   "metadata": {},
   "source": [
    "<div style=\"border-left: 3px solid #000; padding: 1px; padding-left: 10px; background: #F0FAFF; \">\n",
    "<h2>Example 3. Plotting histograms </h2> \n",
    "<p> Use the ```hist``` command.\n",
    "</div>"
   ]
  },
  {
   "cell_type": "code",
   "execution_count": null,
   "metadata": {
    "collapsed": false
   },
   "outputs": [],
   "source": [
    "# Create gaussian distributed data with mu=10, sigma=3\n",
    "x = 10 + 3 * np.random.randn(1000)\n",
    "\n",
    "# Create figure and axes object\n",
    "fig, ax = plt.subplots(1,1,figsize=(10,6))\n",
    "\n",
    "# Create histogram\n",
    "bins=25\n",
    "ax.hist(x, bins=bins, label='Counts')\n",
    "\n",
    "# Set other properties\n",
    "ax.set_ylabel('# Unicorns Earned', fontsize=14)\n",
    "ax.set_xlabel('Karma Points', fontsize=14)\n",
    "ax.legend(loc='upper right')\n"
   ]
  },
  {
   "cell_type": "markdown",
   "metadata": {},
   "source": [
    "<div style=\"background: #DFF0D8; border-radius: 3px; padding: 10px;\">\n",
    "<p>**Exercise 5.2:**\n",
    "\n",
    "<p>Bin edges can be explicitly defined. \n",
    "<p> For example, you can use linspace to define bin edges:\n",
    "<p>&nbsp;&nbsp;&nbsp;&nbsp;```bins = np.linspace(5,25,num=50,endpoint=True)```\n",
    "\n",
    "<p>Remake the histogram above but explicitly define the bin edges rather than the bin size.\n",
    "\n",
    "</div>"
   ]
  },
  {
   "cell_type": "code",
   "execution_count": null,
   "metadata": {
    "collapsed": false
   },
   "outputs": [],
   "source": []
  },
  {
   "cell_type": "markdown",
   "metadata": {
    "collapsed": true
   },
   "source": [
    "<div style=\"border-left: 3px solid #000; padding: 1px; padding-left: 10px; background: #F0FAFF; \">\n",
    "<h2>Example 4 - Plotting Images</h2>\n",
    "<p> The ```imshow``` and ```matshow``` functions are useful for displaying matrices\n",
    "<p> Let's first grab an image that was saved on your hard drive using Matplotlib's ```image.mpimg``` function. This will turn the bitmapped image file into a Numpy array with dimensions ```HEIGHT x WIDTH x COLORS```\n",
    "</div>"
   ]
  },
  {
   "cell_type": "code",
   "execution_count": null,
   "metadata": {
    "collapsed": false
   },
   "outputs": [],
   "source": [
    "import matplotlib.image as mpimg\n",
    "\n",
    "img=mpimg.imread('support_files/stinkbug.png')\n",
    "\n",
    "print('the shape of img is: '+str(np.shape(img)))"
   ]
  },
  {
   "cell_type": "markdown",
   "metadata": {},
   "source": [
    "<div style=\"border-left: 3px solid #000; padding: 1px; padding-left: 10px; background: #F0FAFF; \">\n",
    "\n",
    "<p> Now create a new figure and axis, then use ```imshow``` to display the data\n",
    "</div>"
   ]
  },
  {
   "cell_type": "code",
   "execution_count": null,
   "metadata": {
    "collapsed": false
   },
   "outputs": [],
   "source": [
    "fig,ax=plt.subplots()\n",
    "imgplot = ax.imshow(img)"
   ]
  },
  {
   "cell_type": "markdown",
   "metadata": {},
   "source": [
    "<div style=\"border-left: 3px solid #000; padding: 1px; padding-left: 10px; background: #F0FAFF; \">\n",
    "<p> Note that, despite this having data in three color channels, it renders as a grayscale image. Why is that?\n",
    "<p> Let's look at all three color values for a given point on the image:\n",
    "</div>"
   ]
  },
  {
   "cell_type": "code",
   "execution_count": null,
   "metadata": {
    "collapsed": false
   },
   "outputs": [],
   "source": [
    "img[200,200,:]"
   ]
  },
  {
   "cell_type": "markdown",
   "metadata": {},
   "source": [
    "<div style=\"background: #DFF0D8; border-radius: 3px; padding: 10px;\">\n",
    "<p>**Exercise 5.3:**\n",
    "\n",
    "<p>Plot a single color channel\n",
    "\n",
    "<ol>\n",
    "<li>Use Numpy slicing commands that you learned in the previous module to extract all pixels for one of the three color channels\n",
    "<li>Repeat the imshow command for that single color channel\n",
    "<li>Note that, in the absence of color data, Matplotlib applies the 'jet' colormap by default. Try adding the following keyword argument to your imshow command:\n",
    "<p>&nbsp;&nbsp;&nbsp;&nbsp;```cmap = 'gray'```\n",
    "</ol>\n",
    "\n",
    "</div>"
   ]
  },
  {
   "cell_type": "code",
   "execution_count": null,
   "metadata": {
    "collapsed": false
   },
   "outputs": [],
   "source": []
  },
  {
   "cell_type": "markdown",
   "metadata": {},
   "source": [
    "<div style=\"border-left: 3px solid #000; padding: 1px; padding-left: 10px; background: #F0FAFF; \">\n",
    "<p> Now let's use the same functions to display some mathemically defined data\n",
    "</div>"
   ]
  },
  {
   "cell_type": "code",
   "execution_count": null,
   "metadata": {
    "collapsed": false
   },
   "outputs": [],
   "source": [
    "# Create some datapoints\n",
    "x = np.linspace(0,10,num=500)\n",
    "y = np.linspace(0,1,num=500)\n",
    "\n",
    "#create a meshgrid (evenly spaced 2d array on each axis)\n",
    "XX, YY = np.meshgrid(x, y)\n",
    "\n",
    "## make ZZ a function of XX and YY\n",
    "ZZ = np.sin(0.2*np.pi*XX**2) * YY\n",
    "\n",
    "# Create figure and axes object\n",
    "fig, ax = plt.subplots()\n",
    "\n",
    "# Plot colormap and add colorbar scale \n",
    "image_plot = ax.imshow(ZZ,cmap='coolwarm', extent=[0,10,1,0],aspect=\"auto\") \n",
    "# image_plot = ax.matshow(ZZ,cmap='coolwarm',origin=\"lower\") \n",
    "\n",
    "#make a colorbar\n",
    "cbar = plt.colorbar(image_plot)\n",
    "#set the colorbar's label properties, including an example of using LaTex code\n",
    "cbar.set_label('$\\sin(0.2 \\pi x^2)*y$',fontsize=20,rotation=90)\n",
    "\n",
    "ax.set_xlabel('x',fontsize=16)\n",
    "ax.set_ylabel('y',fontsize=16)\n",
    "\n",
    "print('the shape of z is: '+str(np.shape(ZZ)))"
   ]
  },
  {
   "cell_type": "markdown",
   "metadata": {},
   "source": [
    "<div style=\"background: #DFF0D8; border-radius: 3px; padding: 10px;\">\n",
    "<p>**Exercise 5.4:**\n",
    "<ol>\n",
    "<li>Try experimenting with some different colormaps. Here's a full list: http://matplotlib.org/examples/color/colormaps_reference.html\n",
    "<li>Try reducing the number of points on the x and y axes by changing the 'num' argument in the linspace command. What happens for low values (<= 100 points)?\n",
    "<li>Note that the imshow command turns on interpolation by default to reduce pixelation in images. When displaying quantitive data, this is generally not desireable. Here's a full list of interpolation methods: http://matplotlib.org/examples/images_contours_and_fields/interpolation_methods.html. Try setting interpolation to 'none'\n",
    "<li>Look up the documentation for 'matshow'. Try using it instead of 'imshow'.\n",
    "<li>Notice the ```extent``` and ```aspect``` keywords in the ```imshow``` function. Try removing or editing them to see what happens\n",
    "<li>Note that, in both imshow and matshow, the origin is in the upper left hand corner. Try using the following argument:\n",
    "<p>&nbsp;&nbsp;&nbsp;&nbsp;```origin=\"lower\"``` (but notice how this interacts with the ```extent``` keyword)\n",
    "\n",
    "</ol>\n",
    "</div>"
   ]
  },
  {
   "cell_type": "code",
   "execution_count": null,
   "metadata": {
    "collapsed": true
   },
   "outputs": [],
   "source": []
  },
  {
   "cell_type": "markdown",
   "metadata": {},
   "source": [
    "<div style=\"border-left: 3px solid #000; padding: 1px; padding-left: 10px; background: #F0FAFF; \">\n",
    "<h2> Example 5 -  Error bars </h2>\n",
    "<p>The ```errorbar``` function can be used to generate line plots with errorbars\n",
    "</div>"
   ]
  },
  {
   "cell_type": "code",
   "execution_count": null,
   "metadata": {
    "collapsed": false
   },
   "outputs": [],
   "source": [
    "# Create some data\n",
    "x = np.arange(0., 1., 0.1)\n",
    "y = x + 1\n",
    "y_error = y ** 2\n",
    "\n",
    "# Create figure and axes object\n",
    "fig, ax = plt.subplots()\n",
    "\n",
    "# Create errorbar plot using `y_error` and color errorbars red\n",
    "ax.errorbar(x, y, yerr=y_error, ecolor='red')\n",
    "ax.set_xlim([-.1, 1.])"
   ]
  },
  {
   "cell_type": "markdown",
   "metadata": {},
   "source": [
    "<div style=\"border-left: 3px solid #000; padding: 1px; padding-left: 10px; background: #F0FAFF; \">\n",
    "\n",
    "<h2> Example 6 -  Scatter Plots </h2>\n",
    "<p> The ```scatterplot``` function allows you to generate scatter plots with dots of different sizes, colors, transparencies, etc.\n",
    "\n",
    "</div>"
   ]
  },
  {
   "cell_type": "code",
   "execution_count": null,
   "metadata": {
    "collapsed": false
   },
   "outputs": [],
   "source": [
    "#make first dataset\n",
    "n1 = 500\n",
    "x1 = 5+1.5*np.random.randn(n1)\n",
    "y1 = 1+0.2*np.random.randn(n1)\n",
    "size1 = 100*np.random.rand(n1)\n",
    "\n",
    "#make second dataset\n",
    "n2 = 750\n",
    "x2 = 2+0.5*np.random.randn(n2)\n",
    "y2 = 0.25+0.5*np.random.randn(n2)\n",
    "size2 = 100*np.random.rand(n2)\n",
    "\n",
    "#make figure,axes handles\n",
    "fig,ax=plt.subplots()\n",
    "\n",
    "#plot scatter plots\n",
    "ax.scatter(x1,y1,s=size1,color='red',alpha=0.25)\n",
    "ax.scatter(x2,y2,s=size2,color='blue',alpha=0.25)\n",
    "\n",
    "#set axis limits\n",
    "ax.set_xlim(0,10)\n",
    "ax.set_ylim(-2,2)"
   ]
  },
  {
   "cell_type": "markdown",
   "metadata": {},
   "source": [
    "<div style=\"border-left: 3px solid #000; padding: 1px; padding-left: 10px; background: #F0FAFF; \">\n",
    "\n",
    "<h2>Example 7 - Gridspec </h2>\n",
    "\n",
    "<p>Gridspec is useful when you have uneven subplots. It can get tricky for more complex plots, so first try to use **`ax.subplots()`** (like in the previous examples) if possible.  \n",
    "\n",
    "<p>The documentation for gridspec is here: http://matplotlib.org/users/gridspec.html\n",
    "</div>\n"
   ]
  },
  {
   "cell_type": "code",
   "execution_count": 1,
   "metadata": {
    "collapsed": false
   },
   "outputs": [
    {
     "ename": "NameError",
     "evalue": "name 'np' is not defined",
     "output_type": "error",
     "traceback": [
      "\u001b[0;31m---------------------------------------------------------------------------\u001b[0m",
      "\u001b[0;31mNameError\u001b[0m                                 Traceback (most recent call last)",
      "\u001b[0;32m<ipython-input-1-2ed98fa56fbe>\u001b[0m in \u001b[0;36m<module>\u001b[0;34m()\u001b[0m\n\u001b[1;32m      1\u001b[0m \u001b[0;32mimport\u001b[0m \u001b[0mmatplotlib\u001b[0m\u001b[0;34m.\u001b[0m\u001b[0mgridspec\u001b[0m \u001b[0;32mas\u001b[0m \u001b[0mgridspec\u001b[0m\u001b[0;34m\u001b[0m\u001b[0m\n\u001b[1;32m      2\u001b[0m \u001b[0;34m\u001b[0m\u001b[0m\n\u001b[0;32m----> 3\u001b[0;31m \u001b[0mt\u001b[0m \u001b[0;34m=\u001b[0m \u001b[0mnp\u001b[0m\u001b[0;34m.\u001b[0m\u001b[0marange\u001b[0m\u001b[0;34m(\u001b[0m\u001b[0;36m0.\u001b[0m\u001b[0;34m,\u001b[0m \u001b[0;36m5.\u001b[0m\u001b[0;34m,\u001b[0m \u001b[0;36m0.01\u001b[0m\u001b[0;34m)\u001b[0m\u001b[0;34m\u001b[0m\u001b[0m\n\u001b[0m\u001b[1;32m      4\u001b[0m \u001b[0;34m\u001b[0m\u001b[0m\n\u001b[1;32m      5\u001b[0m \u001b[0mfig\u001b[0m\u001b[0;34m=\u001b[0m\u001b[0mplt\u001b[0m\u001b[0;34m.\u001b[0m\u001b[0mfigure\u001b[0m\u001b[0;34m(\u001b[0m\u001b[0;34m)\u001b[0m\u001b[0;34m\u001b[0m\u001b[0m\n",
      "\u001b[0;31mNameError\u001b[0m: name 'np' is not defined"
     ]
    }
   ],
   "source": [
    "import matplotlib.gridspec as gridspec\n",
    "\n",
    "t = np.arange(0., 5., 0.01)\n",
    "\n",
    "fig=plt.figure()\n",
    "# Create grispec object and define each subplot\n",
    "gs = gridspec.GridSpec(2, 2)\n",
    "ax0 = plt.subplot(gs[0, 0]) # Top left corner\n",
    "ax1 = plt.subplot(gs[0, 1]) # Top right corner\n",
    "ax2 = plt.subplot(gs[1, :]) # Bottom, span entire width\n",
    "\n",
    "ax0.plot(t, np.cos(5 * t), c='b')\n",
    "ax1.plot(t, np.exp(-1 * t), c='g')\n",
    "ax2.plot(t, np.cos(5 * t) * np.exp(-1 * t), c='k')"
   ]
  },
  {
   "cell_type": "markdown",
   "metadata": {
    "collapsed": true
   },
   "source": [
    "<div style=\"background: #DFF0D8; border-radius: 3px; padding: 10px;\">\n",
    "<p>**Exercise 5.5:**\n",
    "<p>Modify the above plot in the following ways:\n",
    "<ol>\n",
    "<li>Add another plot on the right edge that spans the full vertical distance (can be a scatter plot, imshow, line plot, etc.)\n",
    "<li>Change the size of the entire plot to 12 inches wide by 6 inches tall\n",
    "<li>Add a title to each subplot, and the figure as a whole\n",
    "<li>Label all axes\n",
    "<li>Modify the x-labels on the lower-left plot such that there is a tick every 0.5 points (0, 0.5, 1, 1.5, etc).\n",
    "<li>Add gridlines to the upper left plot\n",
    "<li>Make the line in the lower left plot thicker (linewidth of 3) and dashed\n",
    "<ol>\n",
    "</div>"
   ]
  },
  {
   "cell_type": "code",
   "execution_count": null,
   "metadata": {
    "collapsed": false
   },
   "outputs": [],
   "source": []
  }
 ],
 "metadata": {
  "kernelspec": {
   "display_name": "Python 2",
   "language": "python",
   "name": "python2"
  },
  "language_info": {
   "codemirror_mode": {
    "name": "ipython",
    "version": 2
   },
   "file_extension": ".py",
   "mimetype": "text/x-python",
   "name": "python",
   "nbconvert_exporter": "python",
   "pygments_lexer": "ipython2",
   "version": "2.7.12"
  },
  "widgets": {
   "state": {},
   "version": "1.1.2"
  }
 },
 "nbformat": 4,
 "nbformat_minor": 0
}
